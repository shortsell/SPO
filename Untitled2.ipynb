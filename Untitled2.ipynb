{
 "cells": [
  {
   "cell_type": "code",
   "execution_count": 53,
   "metadata": {},
   "outputs": [
    {
     "data": {
      "text/html": [
       "        <script type=\"text/javascript\">\n",
       "        window.PlotlyConfig = {MathJaxConfig: 'local'};\n",
       "        if (window.MathJax) {MathJax.Hub.Config({SVG: {font: \"STIX-Web\"}});}\n",
       "        if (typeof require !== 'undefined') {\n",
       "        require.undef(\"plotly\");\n",
       "        requirejs.config({\n",
       "            paths: {\n",
       "                'plotly': ['https://cdn.plot.ly/plotly-latest.min']\n",
       "            }\n",
       "        });\n",
       "        require(['plotly'], function(Plotly) {\n",
       "            window._Plotly = Plotly;\n",
       "        });\n",
       "        }\n",
       "        </script>\n",
       "        "
      ]
     },
     "metadata": {},
     "output_type": "display_data"
    }
   ],
   "source": [
    "import pandas as pd\n",
    "import eikon as ek\n",
    "import cufflinks as cf\n",
    "import numpy as np\n",
    "import configparser as cp\n",
    "cf.set_config_file(offline=True)"
   ]
  },
  {
   "cell_type": "code",
   "execution_count": 54,
   "metadata": {},
   "outputs": [],
   "source": [
    "mykey= \"bf7be061f8504238aedb4277bf6a741d77925356\""
   ]
  },
  {
   "cell_type": "code",
   "execution_count": 55,
   "metadata": {},
   "outputs": [],
   "source": [
    "ek.set_app_key(mykey)"
   ]
  },
  {
   "cell_type": "code",
   "execution_count": 56,
   "metadata": {},
   "outputs": [
    {
     "name": "stdout",
     "output_type": "stream",
     "text": [
      "3.6.5 |Anaconda, Inc.| (default, Mar 29 2018, 13:32:41) [MSC v.1900 64 bit (AMD64)]\n"
     ]
    }
   ],
   "source": [
    "import sys\n",
    "print(sys.version)"
   ]
  },
  {
   "cell_type": "code",
   "execution_count": 62,
   "metadata": {},
   "outputs": [
    {
     "name": "stderr",
     "output_type": "stream",
     "text": [
      "C:\\Users\\Asus\\Anaconda3\\lib\\site-packages\\eikon\\news_request.py:139: FutureWarning:\n",
      "\n",
      "The pandas.np module is deprecated and will be removed from pandas in a future version. Import numpy directly instead\n",
      "\n"
     ]
    },
    {
     "data": {
      "text/html": [
       "<div>\n",
       "<style scoped>\n",
       "    .dataframe tbody tr th:only-of-type {\n",
       "        vertical-align: middle;\n",
       "    }\n",
       "\n",
       "    .dataframe tbody tr th {\n",
       "        vertical-align: top;\n",
       "    }\n",
       "\n",
       "    .dataframe thead th {\n",
       "        text-align: right;\n",
       "    }\n",
       "</style>\n",
       "<table border=\"1\" class=\"dataframe\">\n",
       "  <thead>\n",
       "    <tr style=\"text-align: right;\">\n",
       "      <th></th>\n",
       "      <th>versionCreated</th>\n",
       "      <th>text</th>\n",
       "      <th>storyId</th>\n",
       "      <th>sourceCode</th>\n",
       "    </tr>\n",
       "  </thead>\n",
       "  <tbody>\n",
       "    <tr>\n",
       "      <th>2020-04-17 22:35:33.653</th>\n",
       "      <td>2020-04-17 22:35:33.653000+00:00</td>\n",
       "      <td>C Contact Gold hikes private placement to $1.2...</td>\n",
       "      <td>urn:newsml:reuters.com:20200417:nNRAbkqfxn:1</td>\n",
       "      <td>NS:CNSWCH</td>\n",
       "    </tr>\n",
       "    <tr>\n",
       "      <th>2020-04-17 22:22:27.462</th>\n",
       "      <td>2020-04-17 22:22:31.416000+00:00</td>\n",
       "      <td>Responds to Shareholder Demand, Increases Priv...</td>\n",
       "      <td>urn:newsml:newsroom:20200417:nNRAbkqm7p:0</td>\n",
       "      <td>NS:CMNW</td>\n",
       "    </tr>\n",
       "    <tr>\n",
       "      <th>2020-04-17 22:12:30.654</th>\n",
       "      <td>2020-04-17 22:12:30.654000+00:00</td>\n",
       "      <td>WTER Alkaline Water closes $3.9-million (U.S.)...</td>\n",
       "      <td>urn:newsml:reuters.com:20200417:nNRAbkqmte:1</td>\n",
       "      <td>NS:CNSWCH</td>\n",
       "    </tr>\n",
       "    <tr>\n",
       "      <th>2020-04-17 21:50:11.983</th>\n",
       "      <td>2020-04-17 21:50:14.852000+00:00</td>\n",
       "      <td>Closing of Public Offering of Common Stock, In...</td>\n",
       "      <td>urn:newsml:newsroom:20200417:nNRAbkqihx:0</td>\n",
       "      <td>NS:CMNW</td>\n",
       "    </tr>\n",
       "    <tr>\n",
       "      <th>2020-04-17 21:42:01.000</th>\n",
       "      <td>2020-04-17 21:42:01+00:00</td>\n",
       "      <td>Contact Gold Corp. - Contact Gold Responds to ...</td>\n",
       "      <td>urn:newsml:reuters.com:20200417:nNDL2ftYJJ:1</td>\n",
       "      <td>NS:PUBT</td>\n",
       "    </tr>\n",
       "    <tr>\n",
       "      <th>2020-04-17 21:29:54.290</th>\n",
       "      <td>2020-04-17 21:29:54.290000+00:00</td>\n",
       "      <td>Contact Gold Responds to Shareholder Demand, I...</td>\n",
       "      <td>urn:newsml:reuters.com:20200417:nNFCc1w0Pf:1</td>\n",
       "      <td>NS:NFC</td>\n",
       "    </tr>\n",
       "    <tr>\n",
       "      <th>2020-04-17 20:59:59.870</th>\n",
       "      <td>2020-04-17 20:59:59.870000+00:00</td>\n",
       "      <td>AKARI THERAPEUTICS PLC FILES PROSPECTUS RELATE...</td>\n",
       "      <td>urn:newsml:reuters.com:20200417:nFWN2C51CD:1</td>\n",
       "      <td>NS:RTRS</td>\n",
       "    </tr>\n",
       "    <tr>\n",
       "      <th>2020-04-17 20:59:40.000</th>\n",
       "      <td>2020-04-17 20:59:40+00:00</td>\n",
       "      <td>BRIEF-Venus Concept Inc Files Prospectus Relat...</td>\n",
       "      <td>urn:newsml:reuters.com:20200417:nFWN2C51CB:1</td>\n",
       "      <td>NS:RTRS</td>\n",
       "    </tr>\n",
       "    <tr>\n",
       "      <th>2020-04-17 20:44:51.824</th>\n",
       "      <td>2020-04-17 20:44:51.824000+00:00</td>\n",
       "      <td>VENUS CONCEPT INC FILES PROSPECTUS RELATES TO ...</td>\n",
       "      <td>urn:newsml:reuters.com:20200417:nFWN2C51CB:1</td>\n",
       "      <td>NS:RTRS</td>\n",
       "    </tr>\n",
       "    <tr>\n",
       "      <th>2020-04-17 20:38:25.000</th>\n",
       "      <td>2020-04-17 20:38:25+00:00</td>\n",
       "      <td>BRIEF-Savara Inc Files Prospectus Relates To R...</td>\n",
       "      <td>urn:newsml:reuters.com:20200417:nFWN2C50ZL:1</td>\n",
       "      <td>NS:RTRS</td>\n",
       "    </tr>\n",
       "  </tbody>\n",
       "</table>\n",
       "</div>"
      ],
      "text/plain": [
       "                                          versionCreated  \\\n",
       "2020-04-17 22:35:33.653 2020-04-17 22:35:33.653000+00:00   \n",
       "2020-04-17 22:22:27.462 2020-04-17 22:22:31.416000+00:00   \n",
       "2020-04-17 22:12:30.654 2020-04-17 22:12:30.654000+00:00   \n",
       "2020-04-17 21:50:11.983 2020-04-17 21:50:14.852000+00:00   \n",
       "2020-04-17 21:42:01.000        2020-04-17 21:42:01+00:00   \n",
       "2020-04-17 21:29:54.290 2020-04-17 21:29:54.290000+00:00   \n",
       "2020-04-17 20:59:59.870 2020-04-17 20:59:59.870000+00:00   \n",
       "2020-04-17 20:59:40.000        2020-04-17 20:59:40+00:00   \n",
       "2020-04-17 20:44:51.824 2020-04-17 20:44:51.824000+00:00   \n",
       "2020-04-17 20:38:25.000        2020-04-17 20:38:25+00:00   \n",
       "\n",
       "                                                                      text  \\\n",
       "2020-04-17 22:35:33.653  C Contact Gold hikes private placement to $1.2...   \n",
       "2020-04-17 22:22:27.462  Responds to Shareholder Demand, Increases Priv...   \n",
       "2020-04-17 22:12:30.654  WTER Alkaline Water closes $3.9-million (U.S.)...   \n",
       "2020-04-17 21:50:11.983  Closing of Public Offering of Common Stock, In...   \n",
       "2020-04-17 21:42:01.000  Contact Gold Corp. - Contact Gold Responds to ...   \n",
       "2020-04-17 21:29:54.290  Contact Gold Responds to Shareholder Demand, I...   \n",
       "2020-04-17 20:59:59.870  AKARI THERAPEUTICS PLC FILES PROSPECTUS RELATE...   \n",
       "2020-04-17 20:59:40.000  BRIEF-Venus Concept Inc Files Prospectus Relat...   \n",
       "2020-04-17 20:44:51.824  VENUS CONCEPT INC FILES PROSPECTUS RELATES TO ...   \n",
       "2020-04-17 20:38:25.000  BRIEF-Savara Inc Files Prospectus Relates To R...   \n",
       "\n",
       "                                                              storyId  \\\n",
       "2020-04-17 22:35:33.653  urn:newsml:reuters.com:20200417:nNRAbkqfxn:1   \n",
       "2020-04-17 22:22:27.462     urn:newsml:newsroom:20200417:nNRAbkqm7p:0   \n",
       "2020-04-17 22:12:30.654  urn:newsml:reuters.com:20200417:nNRAbkqmte:1   \n",
       "2020-04-17 21:50:11.983     urn:newsml:newsroom:20200417:nNRAbkqihx:0   \n",
       "2020-04-17 21:42:01.000  urn:newsml:reuters.com:20200417:nNDL2ftYJJ:1   \n",
       "2020-04-17 21:29:54.290  urn:newsml:reuters.com:20200417:nNFCc1w0Pf:1   \n",
       "2020-04-17 20:59:59.870  urn:newsml:reuters.com:20200417:nFWN2C51CD:1   \n",
       "2020-04-17 20:59:40.000  urn:newsml:reuters.com:20200417:nFWN2C51CB:1   \n",
       "2020-04-17 20:44:51.824  urn:newsml:reuters.com:20200417:nFWN2C51CB:1   \n",
       "2020-04-17 20:38:25.000  urn:newsml:reuters.com:20200417:nFWN2C50ZL:1   \n",
       "\n",
       "                        sourceCode  \n",
       "2020-04-17 22:35:33.653  NS:CNSWCH  \n",
       "2020-04-17 22:22:27.462    NS:CMNW  \n",
       "2020-04-17 22:12:30.654  NS:CNSWCH  \n",
       "2020-04-17 21:50:11.983    NS:CMNW  \n",
       "2020-04-17 21:42:01.000    NS:PUBT  \n",
       "2020-04-17 21:29:54.290     NS:NFC  \n",
       "2020-04-17 20:59:59.870    NS:RTRS  \n",
       "2020-04-17 20:59:40.000    NS:RTRS  \n",
       "2020-04-17 20:44:51.824    NS:RTRS  \n",
       "2020-04-17 20:38:25.000    NS:RTRS  "
      ]
     },
     "execution_count": 62,
     "metadata": {},
     "output_type": "execute_result"
    }
   ],
   "source": [
    "news=ek.get_news_headlines('US AND SISU',10)\n",
    "news"
   ]
  },
  {
   "cell_type": "code",
   "execution_count": 59,
   "metadata": {},
   "outputs": [],
   "source": [
    "storyId=news['storyId'][0]"
   ]
  },
  {
   "cell_type": "code",
   "execution_count": 61,
   "metadata": {
    "scrolled": false
   },
   "outputs": [
    {
     "data": {
      "text/html": [
       "<div class=\"storyContent\" lang=\"en\"><style type=\"text/css\">.storyContent * {border-color:inherit !important;outline-color:inherit !important;}</style><div class=\"tr-npp-abstract\"><p>Contact Gold Corp. has increased its previously announced private placement to $1.25-million from $750,000. The financing will now consist of 12.5 million units at 10 cents, with each unit comprising a share and a warrant.</p></div><div class=\"tr-npp-lead\"><p>Contact Gold Corp (TSX-V:C) <br/> Shares Issued 82,371,973 <br/> Last Close 4/17/2020 $0.14 <br/> Friday April 17 2020 - News Release</p><p>Mr. Matthew Lennox-King reports</p></div><div class=\"tr-npp-body\"><p>CONTACT GOLD RESPONDS TO SHAREHOLDER DEMAND, INCREASES PRIVATE PLACEMENT FOR PROCEEDS OF UP TO $1,250,000</p><p>Contact Gold Corp.'s non-brokered private placement offering of up to 7.5 million units at a price of 10 cents per unit for gross proceeds of up to $750,000, previously announced in the company's news release of March 27, 2020, has been increased to up to 12.5 million units at 10 cents per unit for gross proceeds of up to $1.25-million.</p><p>Each unit will consist of one common share of the company and one common share purchase warrant, with each warrant entitling the holder to purchase an additional common share at a price of 15 cents per share for a period of 24 months from the closing date. In the event that, at any time between four months and one day following the closing date and the expiry date, the common shares trade on the TSX Venture Exchange at a closing price that is equal to or greater than 30 cents for a period of 10 consecutive trading days, the company may accelerate the expiry date of the warrants by giving notice to the holders thereof, and in such case the warrants will expire on the 30th day after the date such notice is provided.</p><p>Net proceeds of the offering are expected to be used to undertake further drilling at Contact Gold's Green Springs and Pony Creek gold projects located in Nevada, and for general working capital.</p><p>Green Springs project</p><p>In 2019, Contact Gold confirmed that past drilling at the Echo and Charlie zones hit entirely oxidized gold mineralization in four drill holes that were reassayed for cyanide solubility. Subsequently, Contact Gold started a drill program to follow up and extend oxide gold mineralization from in the known zones, and drilled 1,300 metres in 10 drill holes. Contact Gold recently reported new oxide gold discoveries at the Alpha and Echo zones.</p><p>The past-producing Green Springs gold project is located at the southern end of Nevada's prolific Carlin trend, 60 kilometres southwest of the historic mining centre of Ely, Nev., in a region hosting numerous producing and past-producing Carlin-type gold deposits. Green Springs encompasses 16 square kilometres and is approximately 10 kilometres east of Fiore Gold's Gold Rock project, 10 kilometres south of Waterton's Mt. Hamilton gold deposit and 20 kilometres southeast of Fiore Gold's producing Pan mine.</p><p>2019 drill highlights include:</p><ul class=\"bulleted-list arrowlist\"><li>4.09 grams per tonne gold over 38.10 metres in hole GS19-09 (Echo, news release dated Jan. 28, 2020);</li><li>1.02 g/t Au over 22.86 metres in hole GS19-10 (Bravo, news release dated Feb. 12, 2020);</li><li>1.68 g/t Au over 35.05 metres in hole GS19-03 (Alpha, news release dated Jan. 14, 2020).</li></ul><p>In 2020, the company anticipates continuing exploration on the Green Springs property. The company plans to grow discoveries at the Alpha and Echo zones as well as drill new target areas.</p><p>Pony Creek project</p><p>The Pony Creek project is located on Nevada's prolific Carlin trend, immediately south of Gold Standard Venture's Railroad project and 20 kilometres south of the Nevada Gold Mines joint venture's Rain and Emigrant gold mines. Pony Creek totals 81 square kilometres of prospective mineral tenure and hosts multiple Carlin-type gold occurrences, including the Bowl and West zones, and multiple untested exploration targets.</p><p>In 2018, Contact Gold made a new gold discovery at Pony Creek's Stallion zone, with near-surface oxide gold mineralization in drilling over a 2.3-kilometre strike length.</p><p>During 2020, the company anticipates continuing exploration on the Pony Creek property. The company plans to grow the new discovery at the Stallion zone and drill the new targets Palomino, Mustang and Elliott Dome.</p><p>Details of the offering</p><p>The securities issued pursuant to the offering will be subject to a four-month-and-one-day statutory hold period in Canada, and are also deemed to be restricted securities under Rule 144 of the U.S. Securities Act of 1933 (as amended), which generally requires a one-year hold period. Completion of the offering is subject to the receipt of all necessary approvals, including the conditional approval of the TSX-V.</p><p>Certain persons may be eligible to receive finder fees, payable in cash, in connection with the offering.</p><p>Closing of the offering is expected to occur on or about April 22, 2020.</p><p>About Green Springs and Pony Creek</p><p>Green Springs and Pony Creek are early-stage exploration properties and do not contain any mineral resource estimates as defined by National Instrument 43-101 (Standards of Disclosure for Mineral Projects). There has been insufficient exploration to define a mineral resource estimate at Green Springs and Pony Creek. It is uncertain if further exploration will result in targets at either project being delineated as a mineral resource. There are no assurances that the geological similarities to projects mentioned herein (or documents referenced herein) operated by Gold Standard Ventures, Waterton, Fiore Gold or the Nevada Gold Mines joint venture will result in the establishment of any mineral resource estimates at any of the company's property interests, including Green Springs or Pony Creek, or that the projects can be advanced in a similar time frame.</p><p>Additional information about Pony Creek is summarized in the NI 43-101 Technical Report entitled \"NI 43-101 Technical Report on the Pony Creek Project, Elko County, Nevada, USA,\" prepared for Contact Gold, with an effective date of Oct. 16, 2018, and dated Oct. 22, 2018, as prepared by Vance Spalding, CPG, vice-president of exploration of Contact Gold. The report can be viewed under Contact Gold's issuer profile on SEDAR.</p><p>The scientific and technical information contained in this news release has been reviewed and approved by Mr. Spalding, who is a qualified person within the meaning of NI 43-101.</p><p>About Contact Gold Corp.</p><p>Contact Gold is an exploration company focused on producing district-scale gold discoveries in Nevada. Contact Gold's extensive landholdings are on the prolific Carlin, Independence and Northern Nevada Rift gold trends, which host numerous gold deposits and mines. Contact Gold's land position comprises approximately 140 square kilometres of target-rich mineral tenure hosting numerous known gold occurrences, ranging from early stage to advanced exploration and resource definition stage.</p><p>We seek Safe Harbor.</p></div><p class=\"line-break\"><br/></p><p class=\"tr-copyright\">Copyright (c) 2020 Canjex Publishing Ltd.</p></div>"
      ],
      "text/plain": [
       "<IPython.core.display.HTML object>"
      ]
     },
     "execution_count": 61,
     "metadata": {},
     "output_type": "execute_result"
    }
   ],
   "source": [
    "from IPython.display import HTML\n",
    "HTML(ek.get_news_story(storyId))"
   ]
  },
  {
   "cell_type": "code",
   "execution_count": null,
   "metadata": {},
   "outputs": [],
   "source": []
  }
 ],
 "metadata": {
  "kernelspec": {
   "display_name": "Python 3",
   "language": "python",
   "name": "python3"
  },
  "language_info": {
   "codemirror_mode": {
    "name": "ipython",
    "version": 3
   },
   "file_extension": ".py",
   "mimetype": "text/x-python",
   "name": "python",
   "nbconvert_exporter": "python",
   "pygments_lexer": "ipython3",
   "version": "3.6.5"
  }
 },
 "nbformat": 4,
 "nbformat_minor": 2
}
